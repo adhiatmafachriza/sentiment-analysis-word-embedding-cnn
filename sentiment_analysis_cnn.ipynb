{
  "nbformat": 4,
  "nbformat_minor": 0,
  "metadata": {
    "colab": {
      "name": "sentiment-analysis-cnn.ipynb",
      "provenance": [],
      "collapsed_sections": []
    },
    "kernelspec": {
      "name": "python3",
      "display_name": "Python 3"
    },
    "language_info": {
      "name": "python"
    },
    "accelerator": "GPU"
  },
  "cells": [
    {
      "cell_type": "markdown",
      "source": [
        "# Sentiment Analysis Using Word Embedding and CNN"
      ],
      "metadata": {
        "id": "whixIgK-s9h1"
      }
    },
    {
      "cell_type": "markdown",
      "source": [
        "The goal of this project is to build a deep learning model that can classify sentiment into two classes which is positive or negative based on user text review data. the dataset used in this project is IMDB movie review data. Word embedding will be used to extract text reviews into a vector of numbers and CNN will be used as a classifier"
      ],
      "metadata": {
        "id": "tNH3p2jzt3QT"
      }
    },
    {
      "cell_type": "code",
      "execution_count": 27,
      "metadata": {
        "id": "oSXmf6Zecq0O"
      },
      "outputs": [],
      "source": [
        "import pandas as pd\n",
        "import numpy as np\n",
        "import matplotlib.pyplot as plt\n",
        "import nltk\n",
        "import tensorflow as tf\n",
        "from tensorflow import keras\n",
        "import re\n",
        "from sklearn.feature_extraction.text import TfidfVectorizer\n",
        "from sklearn.model_selection import train_test_split\n",
        "import string\n",
        "from collections import Counter"
      ]
    },
    {
      "cell_type": "code",
      "source": [
        "nltk.download('stopwords')\n",
        "nltk.download('punkt')\n",
        "\n",
        "stopwords = set(nltk.corpus.stopwords.words('english'))\n",
        "stemmer = nltk.stem.PorterStemmer()"
      ],
      "metadata": {
        "colab": {
          "base_uri": "https://localhost:8080/"
        },
        "id": "qy-hcM1hm0w3",
        "outputId": "581d9ef7-a5f5-47f0-8380-a7a993036567"
      },
      "execution_count": 3,
      "outputs": [
        {
          "output_type": "stream",
          "name": "stdout",
          "text": [
            "[nltk_data] Downloading package stopwords to /root/nltk_data...\n",
            "[nltk_data]   Unzipping corpora/stopwords.zip.\n",
            "[nltk_data] Downloading package punkt to /root/nltk_data...\n",
            "[nltk_data]   Unzipping tokenizers/punkt.zip.\n"
          ]
        }
      ]
    },
    {
      "cell_type": "markdown",
      "source": [
        "# Load dataset"
      ],
      "metadata": {
        "id": "eXjIoqRUtJqb"
      }
    },
    {
      "cell_type": "code",
      "source": [
        "dataset = pd.read_csv(r'/content/drive/MyDrive/Datasets/IMDB Movie Review/IMDB Dataset.csv')"
      ],
      "metadata": {
        "id": "xko_jPIYh1dg"
      },
      "execution_count": 4,
      "outputs": []
    },
    {
      "cell_type": "code",
      "source": [
        "dataset.head()"
      ],
      "metadata": {
        "colab": {
          "base_uri": "https://localhost:8080/",
          "height": 206
        },
        "id": "MElpSPekh7v_",
        "outputId": "40e93e05-1023-47b8-89ca-7452e81d9a1c"
      },
      "execution_count": 4,
      "outputs": [
        {
          "output_type": "execute_result",
          "data": {
            "text/html": [
              "\n",
              "  <div id=\"df-9cffe68a-817b-4f75-b528-65a81b645fcf\">\n",
              "    <div class=\"colab-df-container\">\n",
              "      <div>\n",
              "<style scoped>\n",
              "    .dataframe tbody tr th:only-of-type {\n",
              "        vertical-align: middle;\n",
              "    }\n",
              "\n",
              "    .dataframe tbody tr th {\n",
              "        vertical-align: top;\n",
              "    }\n",
              "\n",
              "    .dataframe thead th {\n",
              "        text-align: right;\n",
              "    }\n",
              "</style>\n",
              "<table border=\"1\" class=\"dataframe\">\n",
              "  <thead>\n",
              "    <tr style=\"text-align: right;\">\n",
              "      <th></th>\n",
              "      <th>review</th>\n",
              "      <th>sentiment</th>\n",
              "    </tr>\n",
              "  </thead>\n",
              "  <tbody>\n",
              "    <tr>\n",
              "      <th>0</th>\n",
              "      <td>One of the other reviewers has mentioned that ...</td>\n",
              "      <td>positive</td>\n",
              "    </tr>\n",
              "    <tr>\n",
              "      <th>1</th>\n",
              "      <td>A wonderful little production. &lt;br /&gt;&lt;br /&gt;The...</td>\n",
              "      <td>positive</td>\n",
              "    </tr>\n",
              "    <tr>\n",
              "      <th>2</th>\n",
              "      <td>I thought this was a wonderful way to spend ti...</td>\n",
              "      <td>positive</td>\n",
              "    </tr>\n",
              "    <tr>\n",
              "      <th>3</th>\n",
              "      <td>Basically there's a family where a little boy ...</td>\n",
              "      <td>negative</td>\n",
              "    </tr>\n",
              "    <tr>\n",
              "      <th>4</th>\n",
              "      <td>Petter Mattei's \"Love in the Time of Money\" is...</td>\n",
              "      <td>positive</td>\n",
              "    </tr>\n",
              "  </tbody>\n",
              "</table>\n",
              "</div>\n",
              "      <button class=\"colab-df-convert\" onclick=\"convertToInteractive('df-9cffe68a-817b-4f75-b528-65a81b645fcf')\"\n",
              "              title=\"Convert this dataframe to an interactive table.\"\n",
              "              style=\"display:none;\">\n",
              "        \n",
              "  <svg xmlns=\"http://www.w3.org/2000/svg\" height=\"24px\"viewBox=\"0 0 24 24\"\n",
              "       width=\"24px\">\n",
              "    <path d=\"M0 0h24v24H0V0z\" fill=\"none\"/>\n",
              "    <path d=\"M18.56 5.44l.94 2.06.94-2.06 2.06-.94-2.06-.94-.94-2.06-.94 2.06-2.06.94zm-11 1L8.5 8.5l.94-2.06 2.06-.94-2.06-.94L8.5 2.5l-.94 2.06-2.06.94zm10 10l.94 2.06.94-2.06 2.06-.94-2.06-.94-.94-2.06-.94 2.06-2.06.94z\"/><path d=\"M17.41 7.96l-1.37-1.37c-.4-.4-.92-.59-1.43-.59-.52 0-1.04.2-1.43.59L10.3 9.45l-7.72 7.72c-.78.78-.78 2.05 0 2.83L4 21.41c.39.39.9.59 1.41.59.51 0 1.02-.2 1.41-.59l7.78-7.78 2.81-2.81c.8-.78.8-2.07 0-2.86zM5.41 20L4 18.59l7.72-7.72 1.47 1.35L5.41 20z\"/>\n",
              "  </svg>\n",
              "      </button>\n",
              "      \n",
              "  <style>\n",
              "    .colab-df-container {\n",
              "      display:flex;\n",
              "      flex-wrap:wrap;\n",
              "      gap: 12px;\n",
              "    }\n",
              "\n",
              "    .colab-df-convert {\n",
              "      background-color: #E8F0FE;\n",
              "      border: none;\n",
              "      border-radius: 50%;\n",
              "      cursor: pointer;\n",
              "      display: none;\n",
              "      fill: #1967D2;\n",
              "      height: 32px;\n",
              "      padding: 0 0 0 0;\n",
              "      width: 32px;\n",
              "    }\n",
              "\n",
              "    .colab-df-convert:hover {\n",
              "      background-color: #E2EBFA;\n",
              "      box-shadow: 0px 1px 2px rgba(60, 64, 67, 0.3), 0px 1px 3px 1px rgba(60, 64, 67, 0.15);\n",
              "      fill: #174EA6;\n",
              "    }\n",
              "\n",
              "    [theme=dark] .colab-df-convert {\n",
              "      background-color: #3B4455;\n",
              "      fill: #D2E3FC;\n",
              "    }\n",
              "\n",
              "    [theme=dark] .colab-df-convert:hover {\n",
              "      background-color: #434B5C;\n",
              "      box-shadow: 0px 1px 3px 1px rgba(0, 0, 0, 0.15);\n",
              "      filter: drop-shadow(0px 1px 2px rgba(0, 0, 0, 0.3));\n",
              "      fill: #FFFFFF;\n",
              "    }\n",
              "  </style>\n",
              "\n",
              "      <script>\n",
              "        const buttonEl =\n",
              "          document.querySelector('#df-9cffe68a-817b-4f75-b528-65a81b645fcf button.colab-df-convert');\n",
              "        buttonEl.style.display =\n",
              "          google.colab.kernel.accessAllowed ? 'block' : 'none';\n",
              "\n",
              "        async function convertToInteractive(key) {\n",
              "          const element = document.querySelector('#df-9cffe68a-817b-4f75-b528-65a81b645fcf');\n",
              "          const dataTable =\n",
              "            await google.colab.kernel.invokeFunction('convertToInteractive',\n",
              "                                                     [key], {});\n",
              "          if (!dataTable) return;\n",
              "\n",
              "          const docLinkHtml = 'Like what you see? Visit the ' +\n",
              "            '<a target=\"_blank\" href=https://colab.research.google.com/notebooks/data_table.ipynb>data table notebook</a>'\n",
              "            + ' to learn more about interactive tables.';\n",
              "          element.innerHTML = '';\n",
              "          dataTable['output_type'] = 'display_data';\n",
              "          await google.colab.output.renderOutput(dataTable, element);\n",
              "          const docLink = document.createElement('div');\n",
              "          docLink.innerHTML = docLinkHtml;\n",
              "          element.appendChild(docLink);\n",
              "        }\n",
              "      </script>\n",
              "    </div>\n",
              "  </div>\n",
              "  "
            ],
            "text/plain": [
              "                                              review sentiment\n",
              "0  One of the other reviewers has mentioned that ...  positive\n",
              "1  A wonderful little production. <br /><br />The...  positive\n",
              "2  I thought this was a wonderful way to spend ti...  positive\n",
              "3  Basically there's a family where a little boy ...  negative\n",
              "4  Petter Mattei's \"Love in the Time of Money\" is...  positive"
            ]
          },
          "metadata": {},
          "execution_count": 4
        }
      ]
    },
    {
      "cell_type": "markdown",
      "source": [
        "Data distribution by sentiment"
      ],
      "metadata": {
        "id": "Sd5BQUsItOdL"
      }
    },
    {
      "cell_type": "code",
      "source": [
        "pd.DataFrame(dataset.groupby(['sentiment']).size().sort_values(ascending=False), columns=['total sentiment'])"
      ],
      "metadata": {
        "colab": {
          "base_uri": "https://localhost:8080/",
          "height": 143
        },
        "id": "O0T9fidciMvf",
        "outputId": "c7767ba6-0ce6-4ddb-ab57-10c7a7c87575"
      },
      "execution_count": 5,
      "outputs": [
        {
          "output_type": "execute_result",
          "data": {
            "text/html": [
              "\n",
              "  <div id=\"df-8b0d96c3-7f0d-4b1c-9420-22cfe2bec7a6\">\n",
              "    <div class=\"colab-df-container\">\n",
              "      <div>\n",
              "<style scoped>\n",
              "    .dataframe tbody tr th:only-of-type {\n",
              "        vertical-align: middle;\n",
              "    }\n",
              "\n",
              "    .dataframe tbody tr th {\n",
              "        vertical-align: top;\n",
              "    }\n",
              "\n",
              "    .dataframe thead th {\n",
              "        text-align: right;\n",
              "    }\n",
              "</style>\n",
              "<table border=\"1\" class=\"dataframe\">\n",
              "  <thead>\n",
              "    <tr style=\"text-align: right;\">\n",
              "      <th></th>\n",
              "      <th>total sentiment</th>\n",
              "    </tr>\n",
              "    <tr>\n",
              "      <th>sentiment</th>\n",
              "      <th></th>\n",
              "    </tr>\n",
              "  </thead>\n",
              "  <tbody>\n",
              "    <tr>\n",
              "      <th>positive</th>\n",
              "      <td>25000</td>\n",
              "    </tr>\n",
              "    <tr>\n",
              "      <th>negative</th>\n",
              "      <td>25000</td>\n",
              "    </tr>\n",
              "  </tbody>\n",
              "</table>\n",
              "</div>\n",
              "      <button class=\"colab-df-convert\" onclick=\"convertToInteractive('df-8b0d96c3-7f0d-4b1c-9420-22cfe2bec7a6')\"\n",
              "              title=\"Convert this dataframe to an interactive table.\"\n",
              "              style=\"display:none;\">\n",
              "        \n",
              "  <svg xmlns=\"http://www.w3.org/2000/svg\" height=\"24px\"viewBox=\"0 0 24 24\"\n",
              "       width=\"24px\">\n",
              "    <path d=\"M0 0h24v24H0V0z\" fill=\"none\"/>\n",
              "    <path d=\"M18.56 5.44l.94 2.06.94-2.06 2.06-.94-2.06-.94-.94-2.06-.94 2.06-2.06.94zm-11 1L8.5 8.5l.94-2.06 2.06-.94-2.06-.94L8.5 2.5l-.94 2.06-2.06.94zm10 10l.94 2.06.94-2.06 2.06-.94-2.06-.94-.94-2.06-.94 2.06-2.06.94z\"/><path d=\"M17.41 7.96l-1.37-1.37c-.4-.4-.92-.59-1.43-.59-.52 0-1.04.2-1.43.59L10.3 9.45l-7.72 7.72c-.78.78-.78 2.05 0 2.83L4 21.41c.39.39.9.59 1.41.59.51 0 1.02-.2 1.41-.59l7.78-7.78 2.81-2.81c.8-.78.8-2.07 0-2.86zM5.41 20L4 18.59l7.72-7.72 1.47 1.35L5.41 20z\"/>\n",
              "  </svg>\n",
              "      </button>\n",
              "      \n",
              "  <style>\n",
              "    .colab-df-container {\n",
              "      display:flex;\n",
              "      flex-wrap:wrap;\n",
              "      gap: 12px;\n",
              "    }\n",
              "\n",
              "    .colab-df-convert {\n",
              "      background-color: #E8F0FE;\n",
              "      border: none;\n",
              "      border-radius: 50%;\n",
              "      cursor: pointer;\n",
              "      display: none;\n",
              "      fill: #1967D2;\n",
              "      height: 32px;\n",
              "      padding: 0 0 0 0;\n",
              "      width: 32px;\n",
              "    }\n",
              "\n",
              "    .colab-df-convert:hover {\n",
              "      background-color: #E2EBFA;\n",
              "      box-shadow: 0px 1px 2px rgba(60, 64, 67, 0.3), 0px 1px 3px 1px rgba(60, 64, 67, 0.15);\n",
              "      fill: #174EA6;\n",
              "    }\n",
              "\n",
              "    [theme=dark] .colab-df-convert {\n",
              "      background-color: #3B4455;\n",
              "      fill: #D2E3FC;\n",
              "    }\n",
              "\n",
              "    [theme=dark] .colab-df-convert:hover {\n",
              "      background-color: #434B5C;\n",
              "      box-shadow: 0px 1px 3px 1px rgba(0, 0, 0, 0.15);\n",
              "      filter: drop-shadow(0px 1px 2px rgba(0, 0, 0, 0.3));\n",
              "      fill: #FFFFFF;\n",
              "    }\n",
              "  </style>\n",
              "\n",
              "      <script>\n",
              "        const buttonEl =\n",
              "          document.querySelector('#df-8b0d96c3-7f0d-4b1c-9420-22cfe2bec7a6 button.colab-df-convert');\n",
              "        buttonEl.style.display =\n",
              "          google.colab.kernel.accessAllowed ? 'block' : 'none';\n",
              "\n",
              "        async function convertToInteractive(key) {\n",
              "          const element = document.querySelector('#df-8b0d96c3-7f0d-4b1c-9420-22cfe2bec7a6');\n",
              "          const dataTable =\n",
              "            await google.colab.kernel.invokeFunction('convertToInteractive',\n",
              "                                                     [key], {});\n",
              "          if (!dataTable) return;\n",
              "\n",
              "          const docLinkHtml = 'Like what you see? Visit the ' +\n",
              "            '<a target=\"_blank\" href=https://colab.research.google.com/notebooks/data_table.ipynb>data table notebook</a>'\n",
              "            + ' to learn more about interactive tables.';\n",
              "          element.innerHTML = '';\n",
              "          dataTable['output_type'] = 'display_data';\n",
              "          await google.colab.output.renderOutput(dataTable, element);\n",
              "          const docLink = document.createElement('div');\n",
              "          docLink.innerHTML = docLinkHtml;\n",
              "          element.appendChild(docLink);\n",
              "        }\n",
              "      </script>\n",
              "    </div>\n",
              "  </div>\n",
              "  "
            ],
            "text/plain": [
              "           total sentiment\n",
              "sentiment                 \n",
              "positive             25000\n",
              "negative             25000"
            ]
          },
          "metadata": {},
          "execution_count": 5
        }
      ]
    },
    {
      "cell_type": "code",
      "source": [
        "review_len = np.array([len(nltk.tokenize.word_tokenize(review)) for review in dataset['review']])"
      ],
      "metadata": {
        "id": "jyFCmjfYmBWv"
      },
      "execution_count": null,
      "outputs": []
    },
    {
      "cell_type": "code",
      "source": [
        "print('max length: ', review_len.max())\n",
        "print('min length: ', review_len.min())\n",
        "print('mean length: ', review_len.mean())"
      ],
      "metadata": {
        "colab": {
          "base_uri": "https://localhost:8080/"
        },
        "id": "Fj7qm_UQnoxF",
        "outputId": "71483d17-4b47-472a-cebe-75f3ef530272"
      },
      "execution_count": null,
      "outputs": [
        {
          "output_type": "stream",
          "name": "stdout",
          "text": [
            "max length:  2909\n",
            "min length:  8\n",
            "mean length:  279.13746\n"
          ]
        }
      ]
    },
    {
      "cell_type": "markdown",
      "source": [
        "# Data preprocessing"
      ],
      "metadata": {
        "id": "iCsSgPI3tZGM"
      }
    },
    {
      "cell_type": "markdown",
      "source": [
        "* remove html tag\n",
        "* remove numbers\n",
        "* convert to lowercase\n",
        "* tokenizing\n",
        "* remove punctuation\n",
        "* remove stopwords"
      ],
      "metadata": {
        "id": "xmghol7iv5az"
      }
    },
    {
      "cell_type": "code",
      "source": [
        "def text_preprocessing(text):\n",
        "    # full text level\n",
        "    # remove html tags\n",
        "    no_html_text = re.sub(r'<.*?>', '', text)\n",
        "    # remove numbers\n",
        "    no_num_text = re.sub(r'\\d+', '', no_html_text)\n",
        "    # lower case conversion\n",
        "    lowercase_text = no_num_text.lower()\n",
        "\n",
        "    # word level\n",
        "    # tokenization\n",
        "    tokens = nltk.tokenize.word_tokenize(lowercase_text)\n",
        "    # remove stopwords\n",
        "    no_stopwords_text = [word for word in tokens if not word in stopwords]\n",
        "    # remove puncts\n",
        "    puncts = str.maketrans('', '', string.punctuation)\n",
        "    no_punct_text = [word.translate(puncts) for word in no_stopwords_text]\n",
        "    # all alphabet\n",
        "    alphabet_word = [word for word in no_punct_text if word.isalpha()]\n",
        "    \n",
        "    return alphabet_word"
      ],
      "metadata": {
        "id": "6jT92WbVs7OM"
      },
      "execution_count": 32,
      "outputs": []
    },
    {
      "cell_type": "markdown",
      "source": [
        "apply preprocessing to text review"
      ],
      "metadata": {
        "id": "elITPoOoyaTy"
      }
    },
    {
      "cell_type": "code",
      "source": [
        "X = [text_preprocessing(review) for review in dataset['review']]"
      ],
      "metadata": {
        "id": "1GaaYD38wLFj"
      },
      "execution_count": 37,
      "outputs": []
    },
    {
      "cell_type": "markdown",
      "source": [
        "text review after preprocessed"
      ],
      "metadata": {
        "id": "0Qkal_HoyeNK"
      }
    },
    {
      "cell_type": "code",
      "source": [
        "print(X[1])"
      ],
      "metadata": {
        "colab": {
          "base_uri": "https://localhost:8080/"
        },
        "id": "_MuPGpR7wdEy",
        "outputId": "ac0f6d21-5097-42e6-ce2f-7f753edfd57c"
      },
      "execution_count": 38,
      "outputs": [
        {
          "output_type": "stream",
          "name": "stdout",
          "text": [
            "['wonderful', 'little', 'production', 'filming', 'technique', 'unassuming', 'oldtimebbc', 'fashion', 'gives', 'comforting', 'sometimes', 'discomforting', 'sense', 'realism', 'entire', 'piece', 'actors', 'extremely', 'well', 'chosen', 'michael', 'sheen', 'got', 'polari', 'voices', 'pat', 'truly', 'see', 'seamless', 'editing', 'guided', 'references', 'williams', 'diary', 'entries', 'well', 'worth', 'watching', 'terrificly', 'written', 'performed', 'piece', 'masterful', 'production', 'one', 'great', 'master', 's', 'comedy', 'life', 'realism', 'really', 'comes', 'home', 'little', 'things', 'fantasy', 'guard', 'rather', 'use', 'traditional', 'dream', 'techniques', 'remains', 'solid', 'disappears', 'plays', 'knowledge', 'senses', 'particularly', 'scenes', 'concerning', 'orton', 'halliwell', 'sets', 'particularly', 'flat', 'halliwell', 's', 'murals', 'decorating', 'every', 'surface', 'terribly', 'well', 'done']\n"
          ]
        }
      ]
    },
    {
      "cell_type": "markdown",
      "source": [
        "# Feature extraction"
      ],
      "metadata": {
        "id": "zYToTRuay3XK"
      }
    },
    {
      "cell_type": "markdown",
      "source": [
        "we need to calculate frequency of each word in the reviews text data"
      ],
      "metadata": {
        "id": "L8akqIQ5F457"
      }
    },
    {
      "cell_type": "code",
      "source": [
        "vocabs = Counter()"
      ],
      "metadata": {
        "id": "Ccbpeq8E7Y1D"
      },
      "execution_count": 45,
      "outputs": []
    },
    {
      "cell_type": "code",
      "source": [
        "for tokens in X:\n",
        "    vocabs.update(tokens)"
      ],
      "metadata": {
        "id": "DoVjQCIc7r4x"
      },
      "execution_count": 47,
      "outputs": []
    },
    {
      "cell_type": "code",
      "source": [
        "len(vocabs)"
      ],
      "metadata": {
        "colab": {
          "base_uri": "https://localhost:8080/"
        },
        "id": "cw0GTZWD-jX4",
        "outputId": "4df768bb-a4ff-45f4-d632-be76e9ea7df0"
      },
      "execution_count": 49,
      "outputs": [
        {
          "output_type": "execute_result",
          "data": {
            "text/plain": [
              "180757"
            ]
          },
          "metadata": {},
          "execution_count": 49
        }
      ]
    },
    {
      "cell_type": "markdown",
      "source": [
        "top n words"
      ],
      "metadata": {
        "id": "DTsibPXZGZJt"
      }
    },
    {
      "cell_type": "code",
      "source": [
        "vocabs.most_common(10)"
      ],
      "metadata": {
        "colab": {
          "base_uri": "https://localhost:8080/"
        },
        "id": "Xb7bspyu-4_A",
        "outputId": "b4e5a65e-886a-4361-f657-109d728b55a7"
      },
      "execution_count": 54,
      "outputs": [
        {
          "output_type": "execute_result",
          "data": {
            "text/plain": [
              "[('s', 123245),\n",
              " ('movie', 85182),\n",
              " ('film', 77036),\n",
              " ('nt', 66250),\n",
              " ('one', 51323),\n",
              " ('like', 39061),\n",
              " ('good', 28737),\n",
              " ('would', 26462),\n",
              " ('even', 24533),\n",
              " ('time', 23553)]"
            ]
          },
          "metadata": {},
          "execution_count": 54
        }
      ]
    },
    {
      "cell_type": "markdown",
      "source": [
        "filter token which has occurence under 2"
      ],
      "metadata": {
        "id": "CV1koKSn_hjX"
      }
    },
    {
      "cell_type": "code",
      "source": [
        "min_occurence = 2\n",
        "tokens = [k for k,c in vocabs.items() if c >= min_occurence]"
      ],
      "metadata": {
        "id": "-lczIDOc_LLo"
      },
      "execution_count": 55,
      "outputs": []
    },
    {
      "cell_type": "code",
      "source": [
        "len(tokens)"
      ],
      "metadata": {
        "colab": {
          "base_uri": "https://localhost:8080/"
        },
        "id": "t9HLIOvw_dAw",
        "outputId": "00981ed1-1941-494a-a530-e8b3d065ce17"
      },
      "execution_count": 56,
      "outputs": [
        {
          "output_type": "execute_result",
          "data": {
            "text/plain": [
              "74985"
            ]
          },
          "metadata": {},
          "execution_count": 56
        }
      ]
    },
    {
      "cell_type": "code",
      "source": [
        "tokenizer = keras.preprocessing.text.Tokenizer(oov_token='<oov>')\n",
        "tokenizer.fit_on_texts(tokens)"
      ],
      "metadata": {
        "id": "1sivrSomAOqV"
      },
      "execution_count": 65,
      "outputs": []
    },
    {
      "cell_type": "code",
      "source": [
        "len(tokenizer.word_index)"
      ],
      "metadata": {
        "colab": {
          "base_uri": "https://localhost:8080/"
        },
        "id": "OnDpezsvAjTW",
        "outputId": "db1699f8-db15-4908-cf12-a77950f7b731"
      },
      "execution_count": 67,
      "outputs": [
        {
          "output_type": "execute_result",
          "data": {
            "text/plain": [
              "74986"
            ]
          },
          "metadata": {},
          "execution_count": 67
        }
      ]
    },
    {
      "cell_type": "markdown",
      "source": [
        "create a sequence of text review based on their words index"
      ],
      "metadata": {
        "id": "xSgOw2FdC3bd"
      }
    },
    {
      "cell_type": "code",
      "source": [
        "sequences = tokenizer.texts_to_sequences(X)"
      ],
      "metadata": {
        "id": "mbEHLEFnA3tw"
      },
      "execution_count": 71,
      "outputs": []
    },
    {
      "cell_type": "code",
      "source": [
        "print('sequence 1 : ', len(sequences[0]))\n",
        "print('sequence 2 : ', len(sequences[1]))\n",
        "print('sequence 3 : ', len(sequences[2]))\n",
        "print('sequence 4 : ', len(sequences[3]))"
      ],
      "metadata": {
        "colab": {
          "base_uri": "https://localhost:8080/"
        },
        "id": "wbR_YlbbCtil",
        "outputId": "309353b3-b450-4f69-c400-f7e2c27cfd92"
      },
      "execution_count": 77,
      "outputs": [
        {
          "output_type": "stream",
          "name": "stdout",
          "text": [
            "sequence 1 :  171\n",
            "sequence 2 :  86\n",
            "sequence 3 :  86\n",
            "sequence 4 :  66\n"
          ]
        }
      ]
    },
    {
      "cell_type": "code",
      "source": [
        "max_len = max([len(sequence) for sequence in sequences])\n",
        "print(max_len)"
      ],
      "metadata": {
        "colab": {
          "base_uri": "https://localhost:8080/"
        },
        "id": "ESjynYMBDsMN",
        "outputId": "6fbdf4db-2b49-42aa-c2e4-34d6891b9194"
      },
      "execution_count": 83,
      "outputs": [
        {
          "output_type": "stream",
          "name": "stdout",
          "text": [
            "1442\n"
          ]
        }
      ]
    },
    {
      "cell_type": "markdown",
      "source": [
        "every sequence has different length, we can add padding at the last index so every sequence will be in the same length. the sequences which have length bigger than maxlen will be truncated"
      ],
      "metadata": {
        "id": "pGqcZnw8DNMl"
      }
    },
    {
      "cell_type": "code",
      "source": [
        "padded_sequences = keras.preprocessing.sequence.pad_sequences(sequences, padding='post', truncating='post', maxlen=1000)"
      ],
      "metadata": {
        "id": "CrkUJT2SDIdU"
      },
      "execution_count": 84,
      "outputs": []
    },
    {
      "cell_type": "markdown",
      "source": [
        "every sequence in the same length"
      ],
      "metadata": {
        "id": "j19Kxjn8EF8t"
      }
    },
    {
      "cell_type": "code",
      "source": [
        "print('sequence 1 : ', len(padded_sequences[0]))\n",
        "print('sequence 2 : ', len(padded_sequences[1]))\n",
        "print('sequence 3 : ', len(padded_sequences[2]))\n",
        "print('sequence 4 : ', len(padded_sequences[3]))"
      ],
      "metadata": {
        "colab": {
          "base_uri": "https://localhost:8080/"
        },
        "id": "WxauyUelD-RN",
        "outputId": "747b7d0b-afaa-40f6-d6f3-0933a3c9a47c"
      },
      "execution_count": 85,
      "outputs": [
        {
          "output_type": "stream",
          "name": "stdout",
          "text": [
            "sequence 1 :  1000\n",
            "sequence 2 :  1000\n",
            "sequence 3 :  1000\n",
            "sequence 4 :  1000\n"
          ]
        }
      ]
    },
    {
      "cell_type": "markdown",
      "source": [
        "# Train test split"
      ],
      "metadata": {
        "id": "_FRu_YKsFR3E"
      }
    },
    {
      "cell_type": "code",
      "source": [
        "labels = []\n",
        "\n",
        "for label in dataset['sentiment']:\n",
        "    if label == 'positive':\n",
        "        labels.append(1)\n",
        "    else:\n",
        "        labels.append(0)\n",
        "\n",
        "labels = np.array(labels)"
      ],
      "metadata": {
        "id": "Xx0m7Lo4GDwr"
      },
      "execution_count": 86,
      "outputs": []
    },
    {
      "cell_type": "code",
      "source": [
        "labels[:15]"
      ],
      "metadata": {
        "colab": {
          "base_uri": "https://localhost:8080/"
        },
        "id": "kup7yjUQJoIS",
        "outputId": "3dd8e983-260d-48a8-b3cf-78f5ad0c5573"
      },
      "execution_count": 87,
      "outputs": [
        {
          "output_type": "execute_result",
          "data": {
            "text/plain": [
              "array([1, 1, 1, 0, 1, 1, 1, 0, 0, 1, 0, 0, 0, 0, 1])"
            ]
          },
          "metadata": {},
          "execution_count": 87
        }
      ]
    },
    {
      "cell_type": "code",
      "source": [
        "labels.shape"
      ],
      "metadata": {
        "colab": {
          "base_uri": "https://localhost:8080/"
        },
        "id": "fCY38wYPGaz7",
        "outputId": "39604035-bcb5-467a-8a56-1ffe6a5dc7e3"
      },
      "execution_count": 90,
      "outputs": [
        {
          "output_type": "execute_result",
          "data": {
            "text/plain": [
              "(50000,)"
            ]
          },
          "metadata": {},
          "execution_count": 90
        }
      ]
    },
    {
      "cell_type": "code",
      "source": [
        "X_train, X_test, y_train, y_test = train_test_split(padded_sequences, labels, test_size=0.2)"
      ],
      "metadata": {
        "id": "3n1hWNZiFRer"
      },
      "execution_count": 91,
      "outputs": []
    },
    {
      "cell_type": "markdown",
      "source": [
        "# Neural network model"
      ],
      "metadata": {
        "id": "qb5yr9LQ0E7Y"
      }
    },
    {
      "cell_type": "markdown",
      "source": [
        "word embedding initialization"
      ],
      "metadata": {
        "id": "qmGicEH5EnSr"
      }
    },
    {
      "cell_type": "code",
      "source": [
        "vocab_size = len(tokenizer.word_index)+1 # maximum vocabulary (estimation)\n",
        "embedding_dim = 100 # word vector dimension\n",
        "max_len = 1000 # maximum sequence length"
      ],
      "metadata": {
        "id": "F4HfLKXlENvU"
      },
      "execution_count": 111,
      "outputs": []
    },
    {
      "cell_type": "code",
      "source": [
        "model = keras.models.Sequential([\n",
        "        keras.layers.Embedding(input_dim=vocab_size, output_dim=embedding_dim, input_length=max_len),\n",
        "        keras.layers.Conv1D(filters=32, kernel_size=5, activation='relu'),\n",
        "        keras.layers.MaxPooling1D(pool_size=2),\n",
        "        keras.layers.Flatten(),\n",
        "        keras.layers.Dense(units=50, activation='relu'),\n",
        "        keras.layers.Dense(units=1, activation='sigmoid')\n",
        "])\n",
        "\n",
        "model.compile(loss='binary_crossentropy', optimizer='adam', metrics=['accuracy'])"
      ],
      "metadata": {
        "id": "jMOeRwXl0DZx"
      },
      "execution_count": 113,
      "outputs": []
    },
    {
      "cell_type": "code",
      "source": [
        "model.summary()"
      ],
      "metadata": {
        "colab": {
          "base_uri": "https://localhost:8080/"
        },
        "id": "vW59y6hKG3ms",
        "outputId": "f38c7431-f9bd-4263-ed9a-251483c6b9e0"
      },
      "execution_count": 114,
      "outputs": [
        {
          "output_type": "stream",
          "name": "stdout",
          "text": [
            "Model: \"sequential_5\"\n",
            "_________________________________________________________________\n",
            " Layer (type)                Output Shape              Param #   \n",
            "=================================================================\n",
            " embedding_5 (Embedding)     (None, 1000, 100)         7498700   \n",
            "                                                                 \n",
            " conv1d_3 (Conv1D)           (None, 996, 32)           16032     \n",
            "                                                                 \n",
            " max_pooling1d_3 (MaxPooling  (None, 498, 32)          0         \n",
            " 1D)                                                             \n",
            "                                                                 \n",
            " flatten_5 (Flatten)         (None, 15936)             0         \n",
            "                                                                 \n",
            " dense_12 (Dense)            (None, 50)                796850    \n",
            "                                                                 \n",
            " dense_13 (Dense)            (None, 1)                 51        \n",
            "                                                                 \n",
            "=================================================================\n",
            "Total params: 8,311,633\n",
            "Trainable params: 8,311,633\n",
            "Non-trainable params: 0\n",
            "_________________________________________________________________\n"
          ]
        }
      ]
    },
    {
      "cell_type": "code",
      "source": [
        "tf.keras.utils.plot_model(model, show_shapes=True)"
      ],
      "metadata": {
        "colab": {
          "base_uri": "https://localhost:8080/",
          "height": 754
        },
        "id": "Eqy3nAjQGrr7",
        "outputId": "ca048573-1031-4d51-a160-2b770e0f28bf"
      },
      "execution_count": 116,
      "outputs": [
        {
          "output_type": "execute_result",
          "data": {
            "image/png": "[encoded data removed]",
            "text/plain": [
              "<IPython.core.display.Image object>"
            ]
          },
          "metadata": {},
          "execution_count": 116
        }
      ]
    },
    {
      "cell_type": "code",
      "source": [
        "history = model.fit(X_train, y_train, epochs=10, validation_data=(X_test, y_test))"
      ],
      "metadata": {
        "colab": {
          "base_uri": "https://localhost:8080/"
        },
        "id": "QB15l4B1HEHE",
        "outputId": "9e4d8469-f1ca-491a-93be-a25d598b64f2"
      },
      "execution_count": 117,
      "outputs": [
        {
          "output_type": "stream",
          "name": "stdout",
          "text": [
            "Epoch 1/10\n",
            "1250/1250 [==============================] - 362s 252ms/step - loss: 0.3216 - accuracy: 0.8553 - val_loss: 0.2435 - val_accuracy: 0.9019\n",
            "Epoch 2/10\n",
            "1250/1250 [==============================] - 325s 260ms/step - loss: 0.1017 - accuracy: 0.9640 - val_loss: 0.3177 - val_accuracy: 0.8866\n",
            "Epoch 3/10\n",
            "1250/1250 [==============================] - 335s 268ms/step - loss: 0.0178 - accuracy: 0.9951 - val_loss: 0.4941 - val_accuracy: 0.8864\n",
            "Epoch 4/10\n",
            "1250/1250 [==============================] - 338s 271ms/step - loss: 0.0038 - accuracy: 0.9990 - val_loss: 0.7160 - val_accuracy: 0.8813\n",
            "Epoch 5/10\n",
            "1250/1250 [==============================] - 331s 265ms/step - loss: 0.0119 - accuracy: 0.9963 - val_loss: 0.6937 - val_accuracy: 0.8794\n",
            "Epoch 6/10\n",
            "1250/1250 [==============================] - 327s 262ms/step - loss: 0.0104 - accuracy: 0.9966 - val_loss: 0.6935 - val_accuracy: 0.8824\n",
            "Epoch 7/10\n",
            "1250/1250 [==============================] - 332s 265ms/step - loss: 0.0040 - accuracy: 0.9987 - val_loss: 0.7863 - val_accuracy: 0.8805\n",
            "Epoch 8/10\n",
            "1250/1250 [==============================] - 332s 266ms/step - loss: 0.0042 - accuracy: 0.9987 - val_loss: 0.8550 - val_accuracy: 0.8780\n",
            "Epoch 9/10\n",
            "1250/1250 [==============================] - 331s 265ms/step - loss: 0.0054 - accuracy: 0.9983 - val_loss: 0.8184 - val_accuracy: 0.8795\n",
            "Epoch 10/10\n",
            "1250/1250 [==============================] - 334s 267ms/step - loss: 0.0010 - accuracy: 0.9996 - val_loss: 0.9514 - val_accuracy: 0.8837\n"
          ]
        }
      ]
    },
    {
      "cell_type": "code",
      "source": [
        "model.evaluate(X_test, y_test)"
      ],
      "metadata": {
        "colab": {
          "base_uri": "https://localhost:8080/"
        },
        "id": "F9J0YmPsaePU",
        "outputId": "80707474-3d76-4628-83a6-bcf08ade96ca"
      },
      "execution_count": 118,
      "outputs": [
        {
          "output_type": "stream",
          "name": "stdout",
          "text": [
            "313/313 [==============================] - 11s 34ms/step - loss: 0.9514 - accuracy: 0.8837\n"
          ]
        },
        {
          "output_type": "execute_result",
          "data": {
            "text/plain": [
              "[0.9514206051826477, 0.8837000131607056]"
            ]
          },
          "metadata": {},
          "execution_count": 118
        }
      ]
    },
    {
      "cell_type": "code",
      "source": [
        "pd.DataFrame(history.history).plot(figsize=(8,5))\n",
        "plt.grid(True)\n",
        "plt.gca().set_ylim(0, 1)"
      ],
      "metadata": {
        "colab": {
          "base_uri": "https://localhost:8080/",
          "height": 341
        },
        "id": "yNe55zf0MEUi",
        "outputId": "e472ce3c-57a1-4df2-81fd-4d37d4f0413d"
      },
      "execution_count": 119,
      "outputs": [
        {
          "output_type": "execute_result",
          "data": {
            "text/plain": [
              "(0.0, 1.0)"
            ]
          },
          "metadata": {},
          "execution_count": 119
        },
        {
          "output_type": "display_data",
          "data": {
            "image/png": "[encoded data removed]",
            "text/plain": [
              "<Figure size 576x360 with 1 Axes>"
            ]
          },
          "metadata": {
            "needs_background": "light"
          }
        }
      ]
    },
    {
      "cell_type": "markdown",
      "source": [
        "# Predicting data"
      ],
      "metadata": {
        "id": "GmlG8VAzMO6C"
      }
    },
    {
      "cell_type": "code",
      "source": [
        "def predict(text, model):\n",
        "    predict_text_clean = text_preprocessing(predict_text)\n",
        "    predict_text_sequence = tokenizer.texts_to_sequences([predict_text_clean])\n",
        "    predict_text_padded = keras.preprocessing.sequence.pad_sequences(predict_text_sequence, padding='post', truncating='pre', maxlen=1000)\n",
        "\n",
        "    predicted_proba = model.predict(predict_text_padded)[0][0]\n",
        "\n",
        "    if round(predicted_proba) == 1:\n",
        "        return 'positive'\n",
        "    else:\n",
        "        return 'negative'"
      ],
      "metadata": {
        "id": "qVPU8I7YKVUS"
      },
      "execution_count": 120,
      "outputs": []
    },
    {
      "cell_type": "code",
      "source": [
        "predict_text = \"It's 2019 and I still watch this movie sometimes and I am pretty sure that people are gonna keep watching this movie for the next 50 years and while watching this they will still feel that same emotion that they felt when they watched this movie for the first time. This movie still in the top 3 of the list of highest grossing movies of all time even after 22 years.\"\n",
        "\n",
        "predict(predict_text, model)"
      ],
      "metadata": {
        "colab": {
          "base_uri": "https://localhost:8080/",
          "height": 35
        },
        "id": "8HFaJBJMI1Ic",
        "outputId": "91ee4caa-15a7-4f66-a6b8-d3a8b4a9fa98"
      },
      "execution_count": 121,
      "outputs": [
        {
          "output_type": "execute_result",
          "data": {
            "application/vnd.google.colaboratory.intrinsic+json": {
              "type": "string"
            },
            "text/plain": [
              "'positive'"
            ]
          },
          "metadata": {},
          "execution_count": 121
        }
      ]
    },
    {
      "cell_type": "markdown",
      "source": [
        "# Save the model"
      ],
      "metadata": {
        "id": "RXRewj5pYmBY"
      }
    },
    {
      "cell_type": "code",
      "source": [
        "model.save(r'/content/drive/MyDrive/model/cnn-embedding-sentiment-analysis.h5')"
      ],
      "metadata": {
        "id": "d4RmTA9uYmTn"
      },
      "execution_count": 123,
      "outputs": []
    }
  ]
}